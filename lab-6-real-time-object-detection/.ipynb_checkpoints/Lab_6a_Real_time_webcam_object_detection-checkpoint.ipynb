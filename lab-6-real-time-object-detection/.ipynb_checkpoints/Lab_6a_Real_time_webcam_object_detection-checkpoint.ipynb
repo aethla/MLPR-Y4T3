{
 "cells": [
  {
   "cell_type": "code",
   "execution_count": 1,
   "metadata": {
    "colab": {
     "base_uri": "https://localhost:8080/"
    },
    "id": "VAs0oD5S6HFD",
    "outputId": "6fdfc7c7-cfa4-4db8-a38e-cb3e37c2ae15"
   },
   "outputs": [
    {
     "name": "stdout",
     "output_type": "stream",
     "text": [
      "Defaulting to user installation because normal site-packages is not writeable\n",
      "Collecting opencv-python\n",
      "  Downloading opencv_python-4.9.0.80-cp37-abi3-win_amd64.whl (38.6 MB)\n",
      "     ---------------------------------------- 38.6/38.6 MB 6.1 MB/s eta 0:00:00\n",
      "Requirement already satisfied: numpy>=1.17.0 in c:\\anaconda\\lib\\site-packages (from opencv-python) (1.21.5)\n",
      "Installing collected packages: opencv-python\n",
      "Successfully installed opencv-python-4.9.0.80\n"
     ]
    }
   ],
   "source": [
    "!pip install opencv-python"
   ]
  },
  {
   "cell_type": "code",
   "execution_count": null,
   "metadata": {
    "colab": {
     "base_uri": "https://localhost:8080/"
    },
    "id": "nAk8tXqy6sa0",
    "outputId": "d02251db-1354-45fb-c952-488fc5855ecf"
   },
   "outputs": [],
   "source": [
    "!pip install ultralytics"
   ]
  },
  {
   "cell_type": "code",
   "execution_count": null,
   "metadata": {
    "colab": {
     "base_uri": "https://localhost:8080/"
    },
    "id": "fEFn_URu6wta",
    "outputId": "893717f8-a5e8-4e2e-d2c6-906e2af749bc"
   },
   "outputs": [],
   "source": [
    "from ultralytics import YOLO\n",
    "model = YOLO(\"yolo-Weights/yolov8n.pt\")"
   ]
  },
  {
   "cell_type": "code",
   "execution_count": null,
   "metadata": {
    "id": "C67ld6Ps60Vl"
   },
   "outputs": [],
   "source": [
    "classNames = [\"person\", \"bicycle\", \"car\", \"motorbike\", \"aeroplane\", \"bus\", \"train\", \"truck\",\n",
    "\"boat\",\"traffic light\", \"fire hydrant\", \"stop sign\", \"parking meter\", \"bench\", \"bird\", \"cat\",\n",
    "\"dog\", \"horse\", \"sheep\", \"cow\", \"elephant\", \"bear\", \"zebra\", \"giraffe\", \"backpack\",\n",
    "\"umbrella\", \"handbag\", \"tie\", \"suitcase\", \"frisbee\", \"skis\", \"snowboard\", \"sports ball\", \"kite\",\n",
    "\"baseball bat\",\"baseball glove\", \"skateboard\", \"surfboard\", \"tennis racket\", \"bottle\", \"wine glass\", \"cup\", \"fork\", \"knife\", \"spoon\", \"bowl\", \"banana\", \"apple\", \"sandwich\", \"orange\",\n",
    "\"broccoli\", \"carrot\", \"hot dog\", \"pizza\", \"donut\", \"cake\", \"chair\", \"sofa\",\n",
    "\"pottedplant\", \"bed\", \"diningtable\", \"toilet\", \"tvmonitor\", \"laptop\", \"mouse\",\n",
    "\"remote\", \"keyboard\", \"cell phone\", \"microwave\", \"oven\", \"toaster\", \"sink\",\n",
    "\"refrigerator\", \"book\", \"clock\", \"vase\", \"scissors\", \"teddy bear\", \"hair drier\",\n",
    "\"toothbrush\"\n",
    "]"
   ]
  },
  {
   "cell_type": "code",
   "execution_count": null,
   "metadata": {
    "colab": {
     "base_uri": "https://localhost:8080/"
    },
    "id": "DvLNFcRd7Act",
    "outputId": "ea3857e6-bda1-4e84-acda-873953203986"
   },
   "outputs": [],
   "source": [
    "import cv2\n",
    "import math\n",
    "# start webcam\n",
    "cap = cv2.VideoCapture(0)\n",
    "cap.set(3, 640)\n",
    "cap.set(4, 480)"
   ]
  },
  {
   "cell_type": "code",
   "execution_count": null,
   "metadata": {
    "id": "Ji4U1ysw7MK-"
   },
   "outputs": [],
   "source": [
    "while True:\n",
    "  success, img = cap.read()\n",
    "  results = model(img, stream=True)\n",
    "  # coordinates\n",
    "  for r in results:\n",
    "    boxes = r.boxes\n",
    "    for box in boxes:\n",
    "      # bounding box\n",
    "      x1, y1, x2, y2 = box.xyxy[0]\n",
    "      x1, y1, x2, y2 = int(x1), int(y1), int(x2), int(y2) # convert to int values\n",
    "      # put box in cam\n",
    "      cv2.rectangle(img, (x1, y1), (x2, y2), (255, 0, 255), 3)\n",
    "      # confidence\n",
    "      confidence = math.ceil((box.conf[0]*100))/100\n",
    "      print(\"Confidence --->\",confidence)\n",
    "      # class name\n",
    "      cls = int(box.cls[0])\n",
    "      print(\"Class name -->\", classNames[cls])\n",
    "      # object details\n",
    "      org = [x1, y1]\n",
    "      font = cv2.FONT_HERSHEY_SIMPLEX\n",
    "      fontScale = 1\n",
    "      color = (255, 0, 0)\n",
    "      thickness = 2\n",
    "\n",
    "      cv2.putText(img, classNames[cls], org, font, fontScale, color, thickness)\n",
    "\n",
    "  cv2.imshow('Webcam', img)\n",
    "  if cv2.waitKey(1) == ord('q'):\n",
    "    break\n",
    "\n",
    "cap.release()\n",
    "cv2.destroyAllWindows()"
   ]
  }
 ],
 "metadata": {
  "colab": {
   "provenance": []
  },
  "kernelspec": {
   "display_name": "Python 3 (ipykernel)",
   "language": "python",
   "name": "python3"
  },
  "language_info": {
   "codemirror_mode": {
    "name": "ipython",
    "version": 3
   },
   "file_extension": ".py",
   "mimetype": "text/x-python",
   "name": "python",
   "nbconvert_exporter": "python",
   "pygments_lexer": "ipython3",
   "version": "3.9.13"
  }
 },
 "nbformat": 4,
 "nbformat_minor": 1
}
