{
  "cells": [
    {
      "cell_type": "markdown",
      "metadata": {
        "id": "ad_0-8veUfPY"
      },
      "source": [
        "# **OCR using Convolutional Neural Networks.**\n",
        " **On [MNIST](http://yann.lecun.com/exdb/mnist/) dataset.**"
      ]
    },
    {
      "cell_type": "markdown",
      "metadata": {
        "id": "A8u8Jyo0I_ui"
      },
      "source": [
        "### **Knowing the shape and exploring the dataset.**\n",
        "**Importing [MNIST](http://yann.lecun.com/exdb/mnist/) dataset, from TensorFlow Keras.**\n",
        "\n"
      ]
    },
    {
      "cell_type": "code",
      "execution_count": 1,
      "metadata": {
        "id": "eBQmytv1KPA6",
        "colab": {
          "base_uri": "https://localhost:8080/"
        },
        "outputId": "724cb739-3bf3-4ed3-b313-b9d3e3d10014"
      },
      "outputs": [
        {
          "output_type": "stream",
          "name": "stdout",
          "text": [
            "Downloading data from https://storage.googleapis.com/tensorflow/tf-keras-datasets/mnist.npz\n",
            "11490434/11490434 [==============================] - 0s 0us/step\n",
            "Shape of the dataset.\n",
            "Train: X=(60000, 28, 28), y=(60000,)\n",
            "Test: X=(10000, 28, 28), y=(10000,)\n"
          ]
        }
      ],
      "source": [
        "import tensorflow as tf\n",
        "import pandas as pd\n",
        "import numpy as np\n",
        "from matplotlib import pyplot as plt\n",
        "from tensorflow.keras.datasets import mnist\n",
        "\n",
        "(X_train, y_train), (X_test, y_test) = mnist.load_data()  # data is imported from mnist (tensorflow dataset library)\n",
        "print('Shape of the dataset.')\n",
        "print('Train: X=%s, y=%s' % (X_train.shape, y_train.shape))\n",
        "print('Test: X=%s, y=%s' % (X_test.shape, y_test.shape))"
      ]
    },
    {
      "cell_type": "code",
      "execution_count": 2,
      "metadata": {
        "id": "LgOcyyYTuVNJ",
        "colab": {
          "base_uri": "https://localhost:8080/"
        },
        "outputId": "83aa380c-4931-4580-a41a-bc04de40c1c4"
      },
      "outputs": [
        {
          "output_type": "stream",
          "name": "stdout",
          "text": [
            " Label  Count Train  Count Test\n",
            "     0         5923         980\n",
            "     1         6742        1135\n",
            "     2         5958        1032\n",
            "     3         6131        1010\n",
            "     4         5842         982\n",
            "     5         5421         892\n",
            "     6         5918         958\n",
            "     7         6265        1028\n",
            "     8         5851         974\n",
            "     9         5949        1009\n"
          ]
        }
      ],
      "source": [
        "train_labels_count = np.unique(y_train, return_counts=True)\n",
        "test_labels_count = np.unique(y_test, return_counts=True)\n",
        "dataframe_labels = pd.DataFrame({'Label':train_labels_count[0], 'Count Train':train_labels_count[1],'Count Test':test_labels_count[1]})\n",
        "print(dataframe_labels.to_string(index=False))"
      ]
    },
    {
      "cell_type": "code",
      "execution_count": 3,
      "metadata": {
        "id": "m7klDpiVuYOG",
        "colab": {
          "base_uri": "https://localhost:8080/",
          "height": 433
        },
        "outputId": "db944ac2-b25b-459b-dada-e5cbe9b23bda"
      },
      "outputs": [
        {
          "output_type": "display_data",
          "data": {
            "text/plain": [
              "<Figure size 640x480 with 9 Axes>"
            ],
            "image/png": "[encoded data removed]"
          },
          "metadata": {}
        }
      ],
      "source": [
        "# 9 sample images of the dataset\n",
        "for i in range(9):\n",
        "\tplt.subplot(331 + i)\n",
        "\tplt.imshow(X_train[i], cmap=plt.get_cmap('gray'))\n",
        "plt.show()"
      ]
    },
    {
      "cell_type": "code",
      "execution_count": 4,
      "metadata": {
        "id": "JlINRO-_ucPj",
        "colab": {
          "base_uri": "https://localhost:8080/"
        },
        "outputId": "581e16aa-eb83-44d3-9e62-cc06515252cd"
      },
      "outputs": [
        {
          "output_type": "stream",
          "name": "stdout",
          "text": [
            "Train dataset ranges from  0  to  255 .\n",
            "Train dataset mean value: 33.318\n",
            "Test dataset ranges from  0  to  255 .\n",
            "Test dataset mean value:  33.791\n"
          ]
        }
      ],
      "source": [
        "print('Train dataset ranges from ', X_train.min(),' to ', X_train.max(),'.')\n",
        "print('Train dataset mean value:', round(X_train.mean(),3))\n",
        "print('Test dataset ranges from ', X_test.min(),' to ', X_test.max(),'.')\n",
        "print('Test dataset mean value: ', round(X_test.mean(),3))"
      ]
    },
    {
      "cell_type": "markdown",
      "metadata": {
        "id": "uCcGb_J1NcCG"
      },
      "source": [
        "### **Reshaping and Normalizing the dataset**\n",
        "\n",
        "Reshaping the array to 4-dims so that it can work with the Keras API.\n",
        "\n",
        "Rescale pixel values from the range of 0-255 to the range 0-1 preferred for neural network models."
      ]
    },
    {
      "cell_type": "code",
      "execution_count": 5,
      "metadata": {
        "id": "Dv7aCIiiOKZa",
        "colab": {
          "base_uri": "https://localhost:8080/"
        },
        "outputId": "6dbf3d80-dc12-4c87-db68-55704c148bc3"
      },
      "outputs": [
        {
          "output_type": "stream",
          "name": "stdout",
          "text": [
            "Train dataset ranges from  0.0  to  1.0 .\n",
            "Train dataset mean value: 0.131\n",
            "Test dataset ranges from  0.0  to  1.0 .\n",
            "Test dataset mean value:  0.133\n"
          ]
        }
      ],
      "source": [
        "# Reshaping\n",
        "# (sample index, height, width, colour channel)\n",
        "X_train = X_train.reshape(X_train.shape[0], 28, 28, 1)\n",
        "X_test = X_test.reshape(X_test.shape[0], 28, 28, 1)\n",
        "\n",
        "X_train = X_train.astype('float32')\n",
        "X_test = X_test.astype('float32')\n",
        "\n",
        "# Normalize\n",
        "# divided by 255 (pixel values are from 0 to 255) to get values between 0 and 1\n",
        "X_train /= 255.0\n",
        "X_test /= 255.0\n",
        "print('Train dataset ranges from ', X_train.min(),' to ', X_train.max(),'.')\n",
        "print('Train dataset mean value:', round(X_train.mean(),3))\n",
        "print('Test dataset ranges from ', X_test.min(),' to ', X_test.max(),'.')\n",
        "print('Test dataset mean value: ', round(X_test.mean(),3))\n"
      ]
    },
    {
      "cell_type": "markdown",
      "metadata": {
        "id": "sWLW4y9gPrFX"
      },
      "source": [
        "### **Keras imports for building our convolutional neural network (CNN) model.**\n"
      ]
    },
    {
      "cell_type": "code",
      "source": [
        "import keras\n",
        "import tensorflow as tf\n",
        "from tensorflow import keras\n",
        "from keras.models import Sequential\n",
        "from keras.layers import Dense, Dropout, Conv2D, MaxPool2D, Flatten, Input, MaxPooling2D\n",
        "#from keras.utils import np_utils\n",
        "from tensorflow.keras.utils import to_categorical\n",
        "\n",
        "from sklearn.metrics import accuracy_score"
      ],
      "metadata": {
        "id": "OB-CNuYlhbZy"
      },
      "execution_count": 6,
      "outputs": []
    },
    {
      "cell_type": "code",
      "source": [
        "# one-hot encoding using numpy-related utilities of tensorflow's keras\n",
        "n_classes = 10\n",
        "print(\"Shape before one-hot encoding: \", y_train.shape)\n",
        "Y_train = to_categorical(y_train, n_classes)\n",
        "Y_test = to_categorical(y_test, n_classes)\n",
        "print(\"Shape after one-hot encoding: \", Y_train.shape)"
      ],
      "metadata": {
        "id": "5cTnqXU3he5m",
        "colab": {
          "base_uri": "https://localhost:8080/"
        },
        "outputId": "2e6294f5-467c-4105-e7a8-d0143792b671"
      },
      "execution_count": 7,
      "outputs": [
        {
          "output_type": "stream",
          "name": "stdout",
          "text": [
            "Shape before one-hot encoding:  (60000,)\n",
            "Shape after one-hot encoding:  (60000, 10)\n"
          ]
        }
      ]
    },
    {
      "cell_type": "code",
      "execution_count": 11,
      "metadata": {
        "id": "7zEzW8mQ-cW6"
      },
      "outputs": [],
      "source": [
        "model = Sequential()\n",
        "# convolutional layer\n",
        "model.add(Input(shape =(28,28,1)))\n",
        "model.add(Conv2D(25, kernel_size=(3,3), strides=(6,6), padding='valid', activation='relu'))\n",
        "#model.add(Conv2D(25, kernel_size=(3,3), strides=(1,1), padding='valid', activation='relu', input_shape=(28,28,1)))\n",
        "# max pooling layer\n",
        "model.add(MaxPool2D(pool_size=(1,1)))\n",
        "# flatten output of conv\n",
        "model.add(Flatten())\n",
        "# hidden layer\n",
        "model.add(Dense(100, activation='relu'))\n",
        "# output layer\n",
        "model.add(Dense(10, activation='softmax'))\n",
        "\n",
        "# Compiling the sequential model\n",
        "# A loss function is one of the two mandatory arguments required for compiling a Keras model\n",
        "# We are using categorical crossentropy because we are trying to solve a MULTI-CLASS classification problem\n",
        "model.compile(loss='categorical_crossentropy', metrics=['accuracy'], optimizer='adam')\n",
        "\n"
      ]
    },
    {
      "cell_type": "code",
      "execution_count": 12,
      "metadata": {
        "id": "1_cvlwHDnntL",
        "colab": {
          "base_uri": "https://localhost:8080/"
        },
        "outputId": "6b4cbe6b-4027-4fbf-c709-db51fed910b9"
      },
      "outputs": [
        {
          "output_type": "stream",
          "name": "stdout",
          "text": [
            "Model: \"sequential_1\"\n",
            "_________________________________________________________________\n",
            " Layer (type)                Output Shape              Param #   \n",
            "=================================================================\n",
            " conv2d_1 (Conv2D)           (None, 5, 5, 25)          250       \n",
            "                                                                 \n",
            " max_pooling2d_1 (MaxPoolin  (None, 5, 5, 25)          0         \n",
            " g2D)                                                            \n",
            "                                                                 \n",
            " flatten_1 (Flatten)         (None, 625)               0         \n",
            "                                                                 \n",
            " dense_2 (Dense)             (None, 100)               62600     \n",
            "                                                                 \n",
            " dense_3 (Dense)             (None, 10)                1010      \n",
            "                                                                 \n",
            "=================================================================\n",
            "Total params: 63860 (249.45 KB)\n",
            "Trainable params: 63860 (249.45 KB)\n",
            "Non-trainable params: 0 (0.00 Byte)\n",
            "_________________________________________________________________\n"
          ]
        }
      ],
      "source": [
        "model.summary()\n"
      ]
    },
    {
      "cell_type": "code",
      "source": [
        "# training the model for 5 epochs\n",
        "# (input features, target labels, number of samples per iteration of training, number of epochs, val. dataset specs)\n",
        "hist = model.fit(X_train, Y_train, batch_size=256, epochs=5, validation_data=(X_test, Y_test))"
      ],
      "metadata": {
        "id": "LBTPL-t6lMvg",
        "colab": {
          "base_uri": "https://localhost:8080/"
        },
        "outputId": "a712a408-c57b-477f-f660-1bc0461c1788"
      },
      "execution_count": 13,
      "outputs": [
        {
          "output_type": "stream",
          "name": "stdout",
          "text": [
            "Epoch 1/5\n",
            "235/235 [==============================] - 5s 17ms/step - loss: 0.9075 - accuracy: 0.7427 - val_loss: 0.5204 - val_accuracy: 0.8399\n",
            "Epoch 2/5\n",
            "235/235 [==============================] - 4s 17ms/step - loss: 0.4769 - accuracy: 0.8532 - val_loss: 0.4129 - val_accuracy: 0.8700\n",
            "Epoch 3/5\n",
            "235/235 [==============================] - 3s 13ms/step - loss: 0.3833 - accuracy: 0.8834 - val_loss: 0.3373 - val_accuracy: 0.8971\n",
            "Epoch 4/5\n",
            "235/235 [==============================] - 3s 13ms/step - loss: 0.3262 - accuracy: 0.9016 - val_loss: 0.3006 - val_accuracy: 0.9056\n",
            "Epoch 5/5\n",
            "235/235 [==============================] - 3s 14ms/step - loss: 0.2883 - accuracy: 0.9120 - val_loss: 0.2716 - val_accuracy: 0.9142\n"
          ]
        }
      ]
    },
    {
      "cell_type": "code",
      "source": [
        "from matplotlib import pyplot as plt\n",
        "fig = plt.figure()\n",
        "plt.plot(hist.history['loss'], color='teal', label='loss')\n",
        "plt.plot(hist.history['val_loss'], color='orange', label='val_loss')\n",
        "fig.suptitle('Loss', fontsize=20)\n",
        "plt.legend(loc=\"upper left\")\n",
        "plt.show()"
      ],
      "metadata": {
        "id": "lH5nE1DClKle",
        "colab": {
          "base_uri": "https://localhost:8080/",
          "height": 478
        },
        "outputId": "90e8cb28-ec35-4d2f-c80a-a3ed3d1b0cda"
      },
      "execution_count": 14,
      "outputs": [
        {
          "output_type": "display_data",
          "data": {
            "text/plain": [
              "<Figure size 640x480 with 1 Axes>"
            ],
            "image/png": "[encoded data removed]"
          },
          "metadata": {}
        }
      ]
    },
    {
      "cell_type": "markdown",
      "metadata": {
        "id": "OIe1Lwsppmpb"
      },
      "source": [
        "**Observations:**\n",
        "\n",
        "\n",
        "*   The CNN model is able to get 98%+ accuracy with just a single convolution layer.\n",
        "*   We can also add more Conv2D layers, and also play around with the hyperparameters of the CNN model to increase the accuracy further more.\n"
      ]
    },
    {
      "cell_type": "markdown",
      "metadata": {
        "id": "w87SKthmpmpb"
      },
      "source": [
        "### **Visualizing the model.**"
      ]
    },
    {
      "cell_type": "code",
      "source": [
        "# Install the visualkeras library if it's not there for you\n",
        "!pip install visualkeras"
      ],
      "metadata": {
        "id": "MqdvCx98jZOW",
        "colab": {
          "base_uri": "https://localhost:8080/"
        },
        "outputId": "ca98d38e-29d4-4f8c-b1b0-71868a83b94d"
      },
      "execution_count": null,
      "outputs": [
        {
          "output_type": "stream",
          "name": "stdout",
          "text": [
            "Collecting visualkeras\n",
            "  Downloading visualkeras-0.0.2-py3-none-any.whl (12 kB)\n",
            "Requirement already satisfied: pillow>=6.2.0 in /usr/local/lib/python3.10/dist-packages (from visualkeras) (9.4.0)\n",
            "Requirement already satisfied: numpy>=1.18.1 in /usr/local/lib/python3.10/dist-packages (from visualkeras) (1.25.2)\n",
            "Collecting aggdraw>=1.3.11 (from visualkeras)\n",
            "  Downloading aggdraw-1.3.18.post0-cp310-cp310-manylinux_2_17_x86_64.manylinux2014_x86_64.whl (993 kB)\n",
            "\u001b[2K     \u001b[90m━━━━━━━━━━━━━━━━━━━━━━━━━━━━━━━━━━━━━━━━\u001b[0m \u001b[32m993.8/993.8 kB\u001b[0m \u001b[31m10.8 MB/s\u001b[0m eta \u001b[36m0:00:00\u001b[0m\n",
            "\u001b[?25hInstalling collected packages: aggdraw, visualkeras\n",
            "Successfully installed aggdraw-1.3.18.post0 visualkeras-0.0.2\n"
          ]
        }
      ]
    },
    {
      "cell_type": "code",
      "source": [
        "from keras.utils import plot_model\n",
        "plot_model(model, to_file='model_plot.png', show_shapes=True, show_layer_names=True)"
      ],
      "metadata": {
        "id": "ix3gD8tpjgFL",
        "colab": {
          "base_uri": "https://localhost:8080/",
          "height": 644
        },
        "outputId": "4fcac9b6-2dfa-4d5d-ef3f-4051fb4099da"
      },
      "execution_count": null,
      "outputs": [
        {
          "output_type": "execute_result",
          "data": {
            "image/png": "[encoded data removed]",
            "text/plain": [
              "<IPython.core.display.Image object>"
            ]
          },
          "metadata": {},
          "execution_count": 13
        }
      ]
    },
    {
      "cell_type": "code",
      "execution_count": null,
      "metadata": {
        "id": "9OJswRj4pmpb",
        "colab": {
          "base_uri": "https://localhost:8080/",
          "height": 87
        },
        "outputId": "09072927-ac13-4bec-ae87-94819f96a743"
      },
      "outputs": [
        {
          "output_type": "execute_result",
          "data": {
            "text/plain": [
              "<PIL.Image.Image image mode=RGBA size=552x70>"
            ],
            "image/png": "[encoded data removed]"
          },
          "metadata": {},
          "execution_count": 14
        }
      ],
      "source": [
        "import visualkeras\n",
        "visualkeras.layered_view(model)\n",
        "#visualkeras.layered_view(model, legend=True)"
      ]
    },
    {
      "cell_type": "code",
      "source": [
        "#Now we will add the legend to the visualization.\n",
        "visualkeras.layered_view(model, legend=True)"
      ],
      "metadata": {
        "id": "mc7QRIImjouD",
        "colab": {
          "base_uri": "https://localhost:8080/",
          "height": 123
        },
        "outputId": "325bc49b-98bf-4c5e-e5a8-d92d4654fa81"
      },
      "execution_count": null,
      "outputs": [
        {
          "output_type": "execute_result",
          "data": {
            "text/plain": [
              "<PIL.Image.Image image mode=RGBA size=552x106>"
            ],
            "image/png": "[encoded data removed]"
          },
          "metadata": {},
          "execution_count": 15
        }
      ]
    },
    {
      "cell_type": "markdown",
      "metadata": {
        "id": "W8gaqcqMsMnX"
      },
      "source": [
        "### **Making individual predictions.**"
      ]
    },
    {
      "cell_type": "code",
      "execution_count": null,
      "metadata": {
        "id": "FR9vImJIr3wI",
        "colab": {
          "base_uri": "https://localhost:8080/",
          "height": 646
        },
        "outputId": "3efbdaa8-2e99-46d1-c50a-0ffbcbac4e3d"
      },
      "outputs": [
        {
          "output_type": "stream",
          "name": "stdout",
          "text": [
            "No. of values in test dataset:  10000\n",
            "1/1 [==============================] - 0s 94ms/step\n",
            "1/1 [==============================] - 0s 22ms/step\n",
            "1/1 [==============================] - 0s 20ms/step\n",
            "1/1 [==============================] - 0s 25ms/step\n",
            "1/1 [==============================] - 0s 20ms/step\n",
            "1/1 [==============================] - 0s 40ms/step\n",
            "1/1 [==============================] - 0s 33ms/step\n",
            "1/1 [==============================] - 0s 32ms/step\n",
            "1/1 [==============================] - 0s 32ms/step\n"
          ]
        },
        {
          "output_type": "display_data",
          "data": {
            "text/plain": [
              "<Figure size 640x480 with 9 Axes>"
            ],
            "image/png": "[encoded data removed]"
          },
          "metadata": {}
        }
      ],
      "source": [
        "import random as r\n",
        "print('No. of values in test dataset: ',X_test.shape[0])\n",
        "for i in range (9):\n",
        "  image_index=r.randint(0,10000)\n",
        "  plt.subplot(331 + i)\n",
        "  plt.imshow(X_test[image_index].reshape(28, 28),cmap='Greys')\n",
        "  pred = model.predict(X_test[image_index].reshape(1, 28, 28, 1))\n",
        "  if i<3:\n",
        "    plt.title('Label: ' + str(pred.argmax()))\n",
        "  elif i>=3 and i<6:\n",
        "    plt.ylabel('Label: ' + str(pred.argmax()))\n",
        "  else:\n",
        "    plt.xlabel('Label: ' + str(pred.argmax()))\n",
        "plt.show()"
      ]
    },
    {
      "cell_type": "markdown",
      "metadata": {
        "id": "SZfgXxUswczk"
      },
      "source": [
        "This is the individual character prediction from train dataset."
      ]
    },
    {
      "cell_type": "markdown",
      "metadata": {
        "id": "3j_M2SZZCQIE"
      },
      "source": [
        "### **Evaluating Keras model.**"
      ]
    },
    {
      "cell_type": "code",
      "execution_count": null,
      "metadata": {
        "id": "iRJGY7JECPcY",
        "colab": {
          "base_uri": "https://localhost:8080/",
          "height": 447
        },
        "outputId": "4d884f4f-f5d0-4de1-b998-f5f36477bd1f"
      },
      "outputs": [
        {
          "output_type": "execute_result",
          "data": {
            "text/plain": [
              "<matplotlib.image.AxesImage at 0x7dfdec0e5c90>"
            ]
          },
          "metadata": {},
          "execution_count": 17
        },
        {
          "output_type": "display_data",
          "data": {
            "text/plain": [
              "<Figure size 640x480 with 1 Axes>"
            ],
            "image/png": "[encoded data removed]"
          },
          "metadata": {}
        }
      ],
      "source": [
        "import time\n",
        "\n",
        "test = 1234\n",
        "plt.imshow(X_test[test].reshape(28, 28),cmap='Greys')"
      ]
    },
    {
      "cell_type": "code",
      "execution_count": null,
      "metadata": {
        "id": "tf_6TWk5pmpc",
        "colab": {
          "base_uri": "https://localhost:8080/"
        },
        "outputId": "1fcf42ae-c224-43d9-fbfe-5a3b1f2ac918"
      },
      "outputs": [
        {
          "output_type": "stream",
          "name": "stdout",
          "text": [
            "1/1 [==============================] - 0s 36ms/step\n",
            "1/1 [==============================] - 0s 63ms/step\n",
            "1/1 [==============================] - 0s 32ms/step\n",
            "1/1 [==============================] - 0s 48ms/step\n",
            "1/1 [==============================] - 0s 35ms/step\n",
            "1/1 [==============================] - 0s 32ms/step\n",
            "1/1 [==============================] - 0s 37ms/step\n",
            "1/1 [==============================] - 0s 38ms/step\n",
            "1/1 [==============================] - 0s 38ms/step\n",
            "1/1 [==============================] - 0s 34ms/step\n",
            "Keras inferences with 0.15947215557098388 second in average\n",
            "[[6.8761136e-07 1.7072261e-07 1.0058437e-03 3.9909310e-03 6.1245546e-09\n",
            "  7.4041118e-03 1.6645205e-04 6.4075678e-09 9.8743153e-01 2.4126408e-07]]\n",
            "Predicted value: 8\n",
            "Correct prediction !\n"
          ]
        }
      ],
      "source": [
        "expected_label=Y_test[test].argmax()\n",
        "digit_image = X_test[test].reshape(1, 28, 28, 1)\n",
        "# repeat few times to take the average execution time\n",
        "loop_count = 10\n",
        "\n",
        "start_time = time.time()\n",
        "for i in range(loop_count):\n",
        "    prediction = model.predict(digit_image)\n",
        "print(\"Keras inferences with %s second in average\" %((time.time() - start_time) / loop_count))\n",
        "\n",
        "print(prediction)\n",
        "predicted_label = prediction.argmax()\n",
        "print('Predicted value:', predicted_label)\n",
        "if (expected_label == predicted_label):\n",
        "  print('Correct prediction !')\n",
        "else:\n",
        "  print('Wrong prediction !')\n",
        "#saving keras model\n",
        "model.save('mnist-model.keras')"
      ]
    },
    {
      "cell_type": "markdown",
      "metadata": {
        "id": "2LRv9RFFvmyn"
      },
      "source": [
        "### **Conversion from Keras to ONNX.**\n",
        "Importing ONNX packages from source."
      ]
    },
    {
      "cell_type": "code",
      "execution_count": null,
      "metadata": {
        "id": "03rWsYAXpmpc",
        "colab": {
          "base_uri": "https://localhost:8080/"
        },
        "outputId": "94a3991d-59e3-476a-ef81-3626958baae2"
      },
      "outputs": [
        {
          "output_type": "stream",
          "name": "stdout",
          "text": [
            "Collecting onnx\n",
            "  Downloading onnx-1.16.1-cp310-cp310-manylinux_2_17_x86_64.manylinux2014_x86_64.whl (15.9 MB)\n",
            "\u001b[2K     \u001b[90m━━━━━━━━━━━━━━━━━━━━━━━━━━━━━━━━━━━━━━━━\u001b[0m \u001b[32m15.9/15.9 MB\u001b[0m \u001b[31m43.8 MB/s\u001b[0m eta \u001b[36m0:00:00\u001b[0m\n",
            "\u001b[?25hRequirement already satisfied: numpy>=1.20 in /usr/local/lib/python3.10/dist-packages (from onnx) (1.25.2)\n",
            "Requirement already satisfied: protobuf>=3.20.2 in /usr/local/lib/python3.10/dist-packages (from onnx) (3.20.3)\n",
            "Installing collected packages: onnx\n",
            "Successfully installed onnx-1.16.1\n"
          ]
        }
      ],
      "source": [
        "#!pip install --upgrade protobuf\n",
        "!pip install onnx"
      ]
    },
    {
      "cell_type": "code",
      "execution_count": null,
      "metadata": {
        "id": "Gl1m4x8Apmpc",
        "colab": {
          "base_uri": "https://localhost:8080/"
        },
        "outputId": "77a8c720-c9db-461a-eff2-2080f2a320d7"
      },
      "outputs": [
        {
          "output_type": "stream",
          "name": "stdout",
          "text": [
            "Collecting tf2onnx\n",
            "  Downloading tf2onnx-1.16.1-py3-none-any.whl (455 kB)\n",
            "\u001b[2K     \u001b[90m━━━━━━━━━━━━━━━━━━━━━━━━━━━━━━━━━━━━━━━━\u001b[0m \u001b[32m455.8/455.8 kB\u001b[0m \u001b[31m4.4 MB/s\u001b[0m eta \u001b[36m0:00:00\u001b[0m\n",
            "\u001b[?25hRequirement already satisfied: numpy>=1.14.1 in /usr/local/lib/python3.10/dist-packages (from tf2onnx) (1.25.2)\n",
            "Requirement already satisfied: onnx>=1.4.1 in /usr/local/lib/python3.10/dist-packages (from tf2onnx) (1.16.1)\n",
            "Requirement already satisfied: requests in /usr/local/lib/python3.10/dist-packages (from tf2onnx) (2.31.0)\n",
            "Requirement already satisfied: six in /usr/local/lib/python3.10/dist-packages (from tf2onnx) (1.16.0)\n",
            "Requirement already satisfied: flatbuffers>=1.12 in /usr/local/lib/python3.10/dist-packages (from tf2onnx) (24.3.25)\n",
            "Requirement already satisfied: protobuf~=3.20 in /usr/local/lib/python3.10/dist-packages (from tf2onnx) (3.20.3)\n",
            "Requirement already satisfied: charset-normalizer<4,>=2 in /usr/local/lib/python3.10/dist-packages (from requests->tf2onnx) (3.3.2)\n",
            "Requirement already satisfied: idna<4,>=2.5 in /usr/local/lib/python3.10/dist-packages (from requests->tf2onnx) (3.7)\n",
            "Requirement already satisfied: urllib3<3,>=1.21.1 in /usr/local/lib/python3.10/dist-packages (from requests->tf2onnx) (2.0.7)\n",
            "Requirement already satisfied: certifi>=2017.4.17 in /usr/local/lib/python3.10/dist-packages (from requests->tf2onnx) (2024.6.2)\n",
            "Installing collected packages: tf2onnx\n",
            "Successfully installed tf2onnx-1.16.1\n"
          ]
        }
      ],
      "source": [
        "!pip install tf2onnx"
      ]
    },
    {
      "cell_type": "code",
      "execution_count": null,
      "metadata": {
        "id": "ADBhI8uZpmpc"
      },
      "outputs": [],
      "source": [
        "import onnx\n",
        "import os\n",
        "os.environ['TF_KERAS'] = '1'\n",
        "import tf2onnx\n",
        "\n",
        "onnx_model_path = 'mnist-model.onnx'\n",
        "\n",
        "model = keras.models.load_model('mnist-model.keras')\n",
        "onnx_model, _ = tf2onnx.convert.from_keras(model)\n",
        "onnx.save(onnx_model, onnx_model_path)"
      ]
    },
    {
      "cell_type": "markdown",
      "metadata": {
        "id": "CxiaPMqKwfEv"
      },
      "source": [
        "### **Evaluating ONNX model perfomance.**\n",
        "Inference"
      ]
    },
    {
      "cell_type": "code",
      "source": [
        "!pip install onnxruntime"
      ],
      "metadata": {
        "id": "lRL6XFitwopC",
        "colab": {
          "base_uri": "https://localhost:8080/"
        },
        "outputId": "f9a9db29-5461-461e-e0c1-4bbc0bf11485"
      },
      "execution_count": null,
      "outputs": [
        {
          "output_type": "stream",
          "name": "stdout",
          "text": [
            "Collecting onnxruntime\n",
            "  Downloading onnxruntime-1.18.0-cp310-cp310-manylinux_2_27_x86_64.manylinux_2_28_x86_64.whl (6.8 MB)\n",
            "\u001b[2K     \u001b[90m━━━━━━━━━━━━━━━━━━━━━━━━━━━━━━━━━━━━━━━━\u001b[0m \u001b[32m6.8/6.8 MB\u001b[0m \u001b[31m18.0 MB/s\u001b[0m eta \u001b[36m0:00:00\u001b[0m\n",
            "\u001b[?25hCollecting coloredlogs (from onnxruntime)\n",
            "  Downloading coloredlogs-15.0.1-py2.py3-none-any.whl (46 kB)\n",
            "\u001b[2K     \u001b[90m━━━━━━━━━━━━━━━━━━━━━━━━━━━━━━━━━━━━━━━━\u001b[0m \u001b[32m46.0/46.0 kB\u001b[0m \u001b[31m5.8 MB/s\u001b[0m eta \u001b[36m0:00:00\u001b[0m\n",
            "\u001b[?25hRequirement already satisfied: flatbuffers in /usr/local/lib/python3.10/dist-packages (from onnxruntime) (24.3.25)\n",
            "Requirement already satisfied: numpy>=1.21.6 in /usr/local/lib/python3.10/dist-packages (from onnxruntime) (1.25.2)\n",
            "Requirement already satisfied: packaging in /usr/local/lib/python3.10/dist-packages (from onnxruntime) (24.0)\n",
            "Requirement already satisfied: protobuf in /usr/local/lib/python3.10/dist-packages (from onnxruntime) (3.20.3)\n",
            "Requirement already satisfied: sympy in /usr/local/lib/python3.10/dist-packages (from onnxruntime) (1.12.1)\n",
            "Collecting humanfriendly>=9.1 (from coloredlogs->onnxruntime)\n",
            "  Downloading humanfriendly-10.0-py2.py3-none-any.whl (86 kB)\n",
            "\u001b[2K     \u001b[90m━━━━━━━━━━━━━━━━━━━━━━━━━━━━━━━━━━━━━━━━\u001b[0m \u001b[32m86.8/86.8 kB\u001b[0m \u001b[31m8.8 MB/s\u001b[0m eta \u001b[36m0:00:00\u001b[0m\n",
            "\u001b[?25hRequirement already satisfied: mpmath<1.4.0,>=1.1.0 in /usr/local/lib/python3.10/dist-packages (from sympy->onnxruntime) (1.3.0)\n",
            "Installing collected packages: humanfriendly, coloredlogs, onnxruntime\n",
            "Successfully installed coloredlogs-15.0.1 humanfriendly-10.0 onnxruntime-1.18.0\n"
          ]
        }
      ]
    },
    {
      "cell_type": "code",
      "execution_count": null,
      "metadata": {
        "id": "jB_wChX4wd1C"
      },
      "outputs": [],
      "source": [
        "import onnxruntime\n",
        "\n",
        "sess_options = onnxruntime.SessionOptions()\n",
        "sess = onnxruntime.InferenceSession(onnx_model_path, sess_options)\n",
        "data = [digit_image.astype(np.float32)]\n",
        "input_names = sess.get_inputs()\n",
        "feed = dict([(input.name, data[n]) for n, input in enumerate(sess.get_inputs())])"
      ]
    },
    {
      "cell_type": "code",
      "execution_count": null,
      "metadata": {
        "id": "4LD2S3NgxpPb",
        "colab": {
          "base_uri": "https://localhost:8080/"
        },
        "outputId": "8f792260-feba-4653-8dde-615a4ecb939f"
      },
      "outputs": [
        {
          "output_type": "stream",
          "name": "stdout",
          "text": [
            "ONNX inferences with 0.0002035856246948242 second in average\n",
            "ONNX predicted value: 8\n",
            "Correct prediction !\n",
            "The ONNX's and keras' prediction are matching !\n"
          ]
        }
      ],
      "source": [
        "start_time = time.time()\n",
        "for i in range(loop_count):\n",
        "    onnx_predicted_label = sess.run(None, feed)[0].argmax()\n",
        "print(\"ONNX inferences with %s second in average\" %((time.time() - start_time) / loop_count))\n",
        "\n",
        "print('ONNX predicted value:', onnx_predicted_label)\n",
        "if (expected_label == onnx_predicted_label):\n",
        "  print('Correct prediction !')\n",
        "else:\n",
        "  print('Wrong prediction !')\n",
        "\n",
        "if (predicted_label == onnx_predicted_label):\n",
        "  print(\"The ONNX's and keras' prediction are matching !\")\n",
        "else:\n",
        "  print(\"The ONNX's and keras' prediction does not match !\")"
      ]
    },
    {
      "cell_type": "markdown",
      "source": [
        "Answer the questions below\n",
        "\n",
        "1. Why have we applied one-hot encoding to Y_train and Y_test?\n",
        "  a. This is for normalization of values. It makes the classes/numbers become a combination of 0s and 1s.\n",
        "\n",
        "2. Change the stride of the CNN model by increasing it. What value will you increase it to?\n",
        "  a. Increase to (6,6).\n",
        "\n",
        "3. After changing the stride what is the number of training parameters of the model and how does it compare to the previous number?\n",
        "  a. With the stride (3,3) - # of parameters: 423,860\n",
        "  b. With the stride of (6,6) - # of parameters: 63,860\n",
        "\n",
        "4. Change the training batch size of the model from 128 to 256. Re-train and test the model again, with the new stride and batch size. According to your observations how have these changes impacted the model's performance?\n",
        "  a. The original model accuracy was 98% with a smaller stride (3,3), but when stride was increased to (6,6), accuracy dropped down to 91%."
      ],
      "metadata": {
        "id": "NeP2mMcDqQgc"
      }
    },
    {
      "cell_type": "markdown",
      "metadata": {
        "id": "UZWe-vYO3X6Q"
      },
      "source": [
        "*References:*\n",
        "\n",
        "---\n",
        "\n",
        "\n",
        "* [Medium.com/CNN](https://medium.com/@RaghavPrabhu/understanding-of-convolutional-neural-network-cnn-deep-learning-99760835f148)\n",
        "* [TowardsDataScience.com/CNN](https://towardsdatascience.com/a-comprehensive-guide-to-convolutional-neural-networks-the-eli5-way-3bd2b1164a53)\n",
        "* [Machine Learning & Deep Learning Fundamentals.](https://www.youtube.com/playlist?list=PLZbbT5o_s2xq7LwI2y8_QtvuXZedL6tQU)"
      ]
    }
  ],
  "metadata": {
    "colab": {
      "provenance": []
    },
    "kernelspec": {
      "display_name": "Python 3 (ipykernel)",
      "language": "python",
      "name": "python3"
    },
    "language_info": {
      "codemirror_mode": {
        "name": "ipython",
        "version": 3
      },
      "file_extension": ".py",
      "mimetype": "text/x-python",
      "name": "python",
      "nbconvert_exporter": "python",
      "pygments_lexer": "ipython3",
      "version": "3.11.7"
    }
  },
  "nbformat": 4,
  "nbformat_minor": 0
}